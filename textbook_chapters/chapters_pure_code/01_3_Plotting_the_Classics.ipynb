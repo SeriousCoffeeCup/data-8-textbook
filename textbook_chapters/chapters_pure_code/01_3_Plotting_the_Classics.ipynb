{
 "cells": [
  {
   "cell_type": "code",
   "execution_count": 1,
   "metadata": {
    "tags": [
     "remove-input"
    ]
   },
   "outputs": [],
   "source": [
    "from datascience import *\n",
    "from datascience.predicates import are\n",
    "from path_data_variable import *\n",
    "import numpy as np\n",
    "import matplotlib\n",
    "matplotlib.use('Agg')\n",
    "%matplotlib inline\n",
    "import matplotlib.pyplot as plots\n",
    "plots.style.use('fivethirtyeight')\n",
    "import warnings\n",
    "warnings.simplefilter(action=\"ignore\", category=FutureWarning)\n",
    "\n",
    "from urllib.request import urlopen \n",
    "import re\n",
    "def read_url(url): \n",
    "    return re.sub('\\\\s+', ' ', urlopen(url).read().decode())"
   ]
  },
  {
   "cell_type": "code",
   "execution_count": 2,
   "metadata": {},
   "outputs": [],
   "source": [
    "# Read two books, fast!\n",
    "\n",
    "huck_finn_url = 'https://www.inferentialthinking.com/data/huck_finn.txt'\n",
    "huck_finn_text = read_url(huck_finn_url)\n",
    "huck_finn_chapters = huck_finn_text.split('CHAPTER ')[44:]\n",
    "\n",
    "little_women_url = 'https://www.inferentialthinking.com/data/little_women.txt'\n",
    "little_women_text = read_url(little_women_url)\n",
    "little_women_chapters = little_women_text.split('CHAPTER ')[1:]"
   ]
  },
  {
   "cell_type": "code",
   "execution_count": 3,
   "metadata": {},
   "outputs": [
    {
     "data": {
      "text/html": [
       "<table border=\"1\" class=\"dataframe\">\n",
       "    <thead>\n",
       "        <tr>\n",
       "            <th>Chapters</th>\n",
       "        </tr>\n",
       "    </thead>\n",
       "    <tbody>\n",
       "        <tr>\n",
       "            <td>I. YOU don't know about me without you have read a book  ...</td>\n",
       "        </tr>\n",
       "        <tr>\n",
       "            <td>II. WE went tiptoeing along a path amongst the trees bac ...</td>\n",
       "        </tr>\n",
       "        <tr>\n",
       "            <td>III. WELL, I got a good going-over in the morning from o ...</td>\n",
       "        </tr>\n",
       "        <tr>\n",
       "            <td>IV. WELL, three or four months run along, and it was wel ...</td>\n",
       "        </tr>\n",
       "        <tr>\n",
       "            <td>V. I had shut the door to. Then I turned around and ther ...</td>\n",
       "        </tr>\n",
       "        <tr>\n",
       "            <td>VI. WELL, pretty soon the old man was up and around agai ...</td>\n",
       "        </tr>\n",
       "        <tr>\n",
       "            <td>VII. \"GIT up! What you 'bout?\" I opened my eyes and look ...</td>\n",
       "        </tr>\n",
       "        <tr>\n",
       "            <td>VIII. THE sun was up so high when I waked that I judged  ...</td>\n",
       "        </tr>\n",
       "        <tr>\n",
       "            <td>IX. I wanted to go and look at a place right about the m ...</td>\n",
       "        </tr>\n",
       "        <tr>\n",
       "            <td>X. AFTER breakfast I wanted to talk about the dead man a ...</td>\n",
       "        </tr>\n",
       "    </tbody>\n",
       "</table>\n",
       "<p>... (33 rows omitted)</p>"
      ],
      "text/plain": [
       "Chapters\n",
       "I. YOU don't know about me without you have read a book  ...\n",
       "II. WE went tiptoeing along a path amongst the trees bac ...\n",
       "III. WELL, I got a good going-over in the morning from o ...\n",
       "IV. WELL, three or four months run along, and it was wel ...\n",
       "V. I had shut the door to. Then I turned around and ther ...\n",
       "VI. WELL, pretty soon the old man was up and around agai ...\n",
       "VII. \"GIT up! What you 'bout?\" I opened my eyes and look ...\n",
       "VIII. THE sun was up so high when I waked that I judged  ...\n",
       "IX. I wanted to go and look at a place right about the m ...\n",
       "X. AFTER breakfast I wanted to talk about the dead man a ...\n",
       "... (33 rows omitted)"
      ]
     },
     "execution_count": 3,
     "metadata": {},
     "output_type": "execute_result"
    }
   ],
   "source": [
    "# Display the chapters of Huckleberry Finn in a table.\n",
    "\n",
    "Table().with_column('Chapters', huck_finn_chapters)"
   ]
  }
 ],
 "metadata": {
  "kernelspec": {
   "display_name": "Python 3",
   "language": "python",
   "name": "python3"
  },
  "language_info": {
   "codemirror_mode": {
    "name": "ipython",
    "version": 3
   },
   "file_extension": ".py",
   "mimetype": "text/x-python",
   "name": "python",
   "nbconvert_exporter": "python",
   "pygments_lexer": "ipython3",
   "version": "3.8.5"
  }
 },
 "nbformat": 4,
 "nbformat_minor": 2
}
