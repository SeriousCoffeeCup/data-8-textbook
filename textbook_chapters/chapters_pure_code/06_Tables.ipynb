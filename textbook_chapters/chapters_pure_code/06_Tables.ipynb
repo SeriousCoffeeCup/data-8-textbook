{
 "cells": [
  {
   "cell_type": "code",
   "execution_count": 1,
   "metadata": {
    "tags": [
     "remove-input"
    ]
   },
   "outputs": [],
   "source": [
    "import numpy as np\n",
    "np.set_printoptions(threshold=50)\n",
    "from path_data_variable import *"
   ]
  },
  {
   "cell_type": "code",
   "execution_count": 2,
   "metadata": {},
   "outputs": [],
   "source": [
    "from datascience import * #5.4 seconds to import..."
   ]
  },
  {
   "cell_type": "code",
   "execution_count": 3,
   "metadata": {},
   "outputs": [
    {
     "data": {
      "text/html": [
       "<table border=\"1\" class=\"dataframe\">\n",
       "    <thead>\n",
       "        <tr>\n",
       "            \n",
       "        </tr>\n",
       "    </thead>\n",
       "    <tbody>\n",
       "    </tbody>\n",
       "</table>"
      ],
      "text/plain": []
     },
     "execution_count": 3,
     "metadata": {},
     "output_type": "execute_result"
    }
   ],
   "source": [
    "Table()"
   ]
  },
  {
   "cell_type": "code",
   "execution_count": 4,
   "metadata": {},
   "outputs": [
    {
     "data": {
      "text/html": [
       "<table border=\"1\" class=\"dataframe\">\n",
       "    <thead>\n",
       "        <tr>\n",
       "            <th>Number of petals</th>\n",
       "        </tr>\n",
       "    </thead>\n",
       "    <tbody>\n",
       "        <tr>\n",
       "            <td>8               </td>\n",
       "        </tr>\n",
       "        <tr>\n",
       "            <td>34              </td>\n",
       "        </tr>\n",
       "        <tr>\n",
       "            <td>5               </td>\n",
       "        </tr>\n",
       "    </tbody>\n",
       "</table>"
      ],
      "text/plain": [
       "Number of petals\n",
       "8\n",
       "34\n",
       "5"
      ]
     },
     "execution_count": 4,
     "metadata": {},
     "output_type": "execute_result"
    }
   ],
   "source": [
    "Table().with_columns('Number of petals', make_array(8, 34, 5))"
   ]
  },
  {
   "cell_type": "code",
   "execution_count": 5,
   "metadata": {},
   "outputs": [
    {
     "data": {
      "text/html": [
       "<table border=\"1\" class=\"dataframe\">\n",
       "    <thead>\n",
       "        <tr>\n",
       "            <th>Number of petals</th> <th>Name</th> <th>Bogus array</th>\n",
       "        </tr>\n",
       "    </thead>\n",
       "    <tbody>\n",
       "        <tr>\n",
       "            <td>8               </td> <td>lotus    </td> <td>bogus      </td>\n",
       "        </tr>\n",
       "        <tr>\n",
       "            <td>34              </td> <td>sunflower</td> <td>array      </td>\n",
       "        </tr>\n",
       "        <tr>\n",
       "            <td>5               </td> <td>rose     </td> <td>1          </td>\n",
       "        </tr>\n",
       "    </tbody>\n",
       "</table>"
      ],
      "text/plain": [
       "Number of petals | Name      | Bogus array\n",
       "8                | lotus     | bogus\n",
       "34               | sunflower | array\n",
       "5                | rose      | 1"
      ]
     },
     "execution_count": 5,
     "metadata": {},
     "output_type": "execute_result"
    }
   ],
   "source": [
    "Table().with_columns(\n",
    "    'Number of petals', make_array(8, 34, 5),\n",
    "    'Name', make_array('lotus', 'sunflower', 'rose'),\n",
    "    \"Bogus array\", make_array(\"bogus\", \"array\", \"1\")\n",
    ")"
   ]
  },
  {
   "cell_type": "code",
   "execution_count": 6,
   "metadata": {},
   "outputs": [
    {
     "data": {
      "text/html": [
       "<table border=\"1\" class=\"dataframe\">\n",
       "    <thead>\n",
       "        <tr>\n",
       "            <th>Number of petals</th> <th>Name</th> <th>Color</th>\n",
       "        </tr>\n",
       "    </thead>\n",
       "    <tbody>\n",
       "        <tr>\n",
       "            <td>8               </td> <td>lotus    </td> <td>pink  </td>\n",
       "        </tr>\n",
       "        <tr>\n",
       "            <td>34              </td> <td>sunflower</td> <td>yellow</td>\n",
       "        </tr>\n",
       "        <tr>\n",
       "            <td>5               </td> <td>rose     </td> <td>red   </td>\n",
       "        </tr>\n",
       "    </tbody>\n",
       "</table>"
      ],
      "text/plain": [
       "Number of petals | Name      | Color\n",
       "8                | lotus     | pink\n",
       "34               | sunflower | yellow\n",
       "5                | rose      | red"
      ]
     },
     "execution_count": 6,
     "metadata": {},
     "output_type": "execute_result"
    }
   ],
   "source": [
    "flowers = Table().with_columns(\n",
    "    'Number of petals', make_array(8, 34, 5),\n",
    "    'Name', make_array('lotus', 'sunflower', 'rose')\n",
    ")\n",
    "\n",
    "flowers.with_columns(\n",
    "    'Color', make_array('pink', 'yellow', 'red')\n",
    ")"
   ]
  },
  {
   "cell_type": "code",
   "execution_count": 7,
   "metadata": {},
   "outputs": [
    {
     "data": {
      "text/html": [
       "<table border=\"1\" class=\"dataframe\">\n",
       "    <thead>\n",
       "        <tr>\n",
       "            <th>Number of petals</th> <th>Name</th>\n",
       "        </tr>\n",
       "    </thead>\n",
       "    <tbody>\n",
       "        <tr>\n",
       "            <td>8               </td> <td>lotus    </td>\n",
       "        </tr>\n",
       "        <tr>\n",
       "            <td>34              </td> <td>sunflower</td>\n",
       "        </tr>\n",
       "        <tr>\n",
       "            <td>5               </td> <td>rose     </td>\n",
       "        </tr>\n",
       "    </tbody>\n",
       "</table>"
      ],
      "text/plain": [
       "Number of petals | Name\n",
       "8                | lotus\n",
       "34               | sunflower\n",
       "5                | rose"
      ]
     },
     "execution_count": 7,
     "metadata": {},
     "output_type": "execute_result"
    }
   ],
   "source": [
    "flowers"
   ]
  },
  {
   "cell_type": "code",
   "execution_count": 8,
   "metadata": {},
   "outputs": [
    {
     "data": {
      "text/html": [
       "<table border=\"1\" class=\"dataframe\">\n",
       "    <thead>\n",
       "        <tr>\n",
       "            <th>Longitude</th> <th>Latitude</th> <th>City</th> <th>Direction</th> <th>Survivors</th>\n",
       "        </tr>\n",
       "    </thead>\n",
       "    <tbody>\n",
       "        <tr>\n",
       "            <td>32       </td> <td>54.8    </td> <td>Smolensk   </td> <td>Advance  </td> <td>145000   </td>\n",
       "        </tr>\n",
       "        <tr>\n",
       "            <td>33.2     </td> <td>54.9    </td> <td>Dorogobouge</td> <td>Advance  </td> <td>140000   </td>\n",
       "        </tr>\n",
       "        <tr>\n",
       "            <td>34.4     </td> <td>55.5    </td> <td>Chjat      </td> <td>Advance  </td> <td>127100   </td>\n",
       "        </tr>\n",
       "        <tr>\n",
       "            <td>37.6     </td> <td>55.8    </td> <td>Moscou     </td> <td>Advance  </td> <td>100000   </td>\n",
       "        </tr>\n",
       "        <tr>\n",
       "            <td>34.3     </td> <td>55.2    </td> <td>Wixma      </td> <td>Retreat  </td> <td>55000    </td>\n",
       "        </tr>\n",
       "        <tr>\n",
       "            <td>32       </td> <td>54.6    </td> <td>Smolensk   </td> <td>Retreat  </td> <td>24000    </td>\n",
       "        </tr>\n",
       "        <tr>\n",
       "            <td>30.4     </td> <td>54.4    </td> <td>Orscha     </td> <td>Retreat  </td> <td>20000    </td>\n",
       "        </tr>\n",
       "        <tr>\n",
       "            <td>26.8     </td> <td>54.3    </td> <td>Moiodexno  </td> <td>Retreat  </td> <td>12000    </td>\n",
       "        </tr>\n",
       "    </tbody>\n",
       "</table>"
      ],
      "text/plain": [
       "Longitude | Latitude | City        | Direction | Survivors\n",
       "32        | 54.8     | Smolensk    | Advance   | 145000\n",
       "33.2      | 54.9     | Dorogobouge | Advance   | 140000\n",
       "34.4      | 55.5     | Chjat       | Advance   | 127100\n",
       "37.6      | 55.8     | Moscou      | Advance   | 100000\n",
       "34.3      | 55.2     | Wixma       | Retreat   | 55000\n",
       "32        | 54.6     | Smolensk    | Retreat   | 24000\n",
       "30.4      | 54.4     | Orscha      | Retreat   | 20000\n",
       "26.8      | 54.3     | Moiodexno   | Retreat   | 12000"
      ]
     },
     "execution_count": 8,
     "metadata": {},
     "output_type": "execute_result"
    }
   ],
   "source": [
    "minard = Table.read_table(path_data + 'minard.csv')\n",
    "minard"
   ]
  },
  {
   "cell_type": "code",
   "execution_count": 9,
   "metadata": {},
   "outputs": [
    {
     "data": {
      "text/plain": [
       "5"
      ]
     },
     "execution_count": 9,
     "metadata": {},
     "output_type": "execute_result"
    }
   ],
   "source": [
    "minard.num_columns"
   ]
  },
  {
   "cell_type": "code",
   "execution_count": 10,
   "metadata": {},
   "outputs": [
    {
     "data": {
      "text/plain": [
       "8"
      ]
     },
     "execution_count": 10,
     "metadata": {},
     "output_type": "execute_result"
    }
   ],
   "source": [
    "minard.num_rows"
   ]
  },
  {
   "cell_type": "code",
   "execution_count": 11,
   "metadata": {},
   "outputs": [
    {
     "data": {
      "text/plain": [
       "('Longitude', 'Latitude', 'City', 'Direction', 'Survivors')"
      ]
     },
     "execution_count": 11,
     "metadata": {},
     "output_type": "execute_result"
    }
   ],
   "source": [
    "minard.labels"
   ]
  },
  {
   "cell_type": "code",
   "execution_count": 12,
   "metadata": {},
   "outputs": [
    {
     "data": {
      "text/html": [
       "<table border=\"1\" class=\"dataframe\">\n",
       "    <thead>\n",
       "        <tr>\n",
       "            <th>Longitude</th> <th>Latitude</th> <th>City Name</th> <th>Direction</th> <th>Survivors</th>\n",
       "        </tr>\n",
       "    </thead>\n",
       "    <tbody>\n",
       "        <tr>\n",
       "            <td>32       </td> <td>54.8    </td> <td>Smolensk   </td> <td>Advance  </td> <td>145000   </td>\n",
       "        </tr>\n",
       "        <tr>\n",
       "            <td>33.2     </td> <td>54.9    </td> <td>Dorogobouge</td> <td>Advance  </td> <td>140000   </td>\n",
       "        </tr>\n",
       "        <tr>\n",
       "            <td>34.4     </td> <td>55.5    </td> <td>Chjat      </td> <td>Advance  </td> <td>127100   </td>\n",
       "        </tr>\n",
       "        <tr>\n",
       "            <td>37.6     </td> <td>55.8    </td> <td>Moscou     </td> <td>Advance  </td> <td>100000   </td>\n",
       "        </tr>\n",
       "        <tr>\n",
       "            <td>34.3     </td> <td>55.2    </td> <td>Wixma      </td> <td>Retreat  </td> <td>55000    </td>\n",
       "        </tr>\n",
       "        <tr>\n",
       "            <td>32       </td> <td>54.6    </td> <td>Smolensk   </td> <td>Retreat  </td> <td>24000    </td>\n",
       "        </tr>\n",
       "        <tr>\n",
       "            <td>30.4     </td> <td>54.4    </td> <td>Orscha     </td> <td>Retreat  </td> <td>20000    </td>\n",
       "        </tr>\n",
       "        <tr>\n",
       "            <td>26.8     </td> <td>54.3    </td> <td>Moiodexno  </td> <td>Retreat  </td> <td>12000    </td>\n",
       "        </tr>\n",
       "    </tbody>\n",
       "</table>"
      ],
      "text/plain": [
       "Longitude | Latitude | City Name   | Direction | Survivors\n",
       "32        | 54.8     | Smolensk    | Advance   | 145000\n",
       "33.2      | 54.9     | Dorogobouge | Advance   | 140000\n",
       "34.4      | 55.5     | Chjat       | Advance   | 127100\n",
       "37.6      | 55.8     | Moscou      | Advance   | 100000\n",
       "34.3      | 55.2     | Wixma       | Retreat   | 55000\n",
       "32        | 54.6     | Smolensk    | Retreat   | 24000\n",
       "30.4      | 54.4     | Orscha      | Retreat   | 20000\n",
       "26.8      | 54.3     | Moiodexno   | Retreat   | 12000"
      ]
     },
     "execution_count": 12,
     "metadata": {},
     "output_type": "execute_result"
    }
   ],
   "source": [
    "minard.relabeled('City', 'City Name')"
   ]
  },
  {
   "cell_type": "code",
   "execution_count": 13,
   "metadata": {},
   "outputs": [
    {
     "data": {
      "text/html": [
       "<table border=\"1\" class=\"dataframe\">\n",
       "    <thead>\n",
       "        <tr>\n",
       "            <th>Longitude</th> <th>Latitude</th> <th>City</th> <th>Direction</th> <th>Survivors</th>\n",
       "        </tr>\n",
       "    </thead>\n",
       "    <tbody>\n",
       "        <tr>\n",
       "            <td>32       </td> <td>54.8    </td> <td>Smolensk   </td> <td>Advance  </td> <td>145000   </td>\n",
       "        </tr>\n",
       "        <tr>\n",
       "            <td>33.2     </td> <td>54.9    </td> <td>Dorogobouge</td> <td>Advance  </td> <td>140000   </td>\n",
       "        </tr>\n",
       "        <tr>\n",
       "            <td>34.4     </td> <td>55.5    </td> <td>Chjat      </td> <td>Advance  </td> <td>127100   </td>\n",
       "        </tr>\n",
       "        <tr>\n",
       "            <td>37.6     </td> <td>55.8    </td> <td>Moscou     </td> <td>Advance  </td> <td>100000   </td>\n",
       "        </tr>\n",
       "        <tr>\n",
       "            <td>34.3     </td> <td>55.2    </td> <td>Wixma      </td> <td>Retreat  </td> <td>55000    </td>\n",
       "        </tr>\n",
       "        <tr>\n",
       "            <td>32       </td> <td>54.6    </td> <td>Smolensk   </td> <td>Retreat  </td> <td>24000    </td>\n",
       "        </tr>\n",
       "        <tr>\n",
       "            <td>30.4     </td> <td>54.4    </td> <td>Orscha     </td> <td>Retreat  </td> <td>20000    </td>\n",
       "        </tr>\n",
       "        <tr>\n",
       "            <td>26.8     </td> <td>54.3    </td> <td>Moiodexno  </td> <td>Retreat  </td> <td>12000    </td>\n",
       "        </tr>\n",
       "    </tbody>\n",
       "</table>"
      ],
      "text/plain": [
       "Longitude | Latitude | City        | Direction | Survivors\n",
       "32        | 54.8     | Smolensk    | Advance   | 145000\n",
       "33.2      | 54.9     | Dorogobouge | Advance   | 140000\n",
       "34.4      | 55.5     | Chjat       | Advance   | 127100\n",
       "37.6      | 55.8     | Moscou      | Advance   | 100000\n",
       "34.3      | 55.2     | Wixma       | Retreat   | 55000\n",
       "32        | 54.6     | Smolensk    | Retreat   | 24000\n",
       "30.4      | 54.4     | Orscha      | Retreat   | 20000\n",
       "26.8      | 54.3     | Moiodexno   | Retreat   | 12000"
      ]
     },
     "execution_count": 13,
     "metadata": {},
     "output_type": "execute_result"
    }
   ],
   "source": [
    "minard"
   ]
  },
  {
   "cell_type": "code",
   "execution_count": 14,
   "metadata": {},
   "outputs": [
    {
     "data": {
      "text/html": [
       "<table border=\"1\" class=\"dataframe\">\n",
       "    <thead>\n",
       "        <tr>\n",
       "            <th>Longitude</th> <th>Latitude</th> <th>City Name</th> <th>Direction</th> <th>Survivors</th>\n",
       "        </tr>\n",
       "    </thead>\n",
       "    <tbody>\n",
       "        <tr>\n",
       "            <td>32       </td> <td>54.8    </td> <td>Smolensk   </td> <td>Advance  </td> <td>145000   </td>\n",
       "        </tr>\n",
       "        <tr>\n",
       "            <td>33.2     </td> <td>54.9    </td> <td>Dorogobouge</td> <td>Advance  </td> <td>140000   </td>\n",
       "        </tr>\n",
       "        <tr>\n",
       "            <td>34.4     </td> <td>55.5    </td> <td>Chjat      </td> <td>Advance  </td> <td>127100   </td>\n",
       "        </tr>\n",
       "        <tr>\n",
       "            <td>37.6     </td> <td>55.8    </td> <td>Moscou     </td> <td>Advance  </td> <td>100000   </td>\n",
       "        </tr>\n",
       "        <tr>\n",
       "            <td>34.3     </td> <td>55.2    </td> <td>Wixma      </td> <td>Retreat  </td> <td>55000    </td>\n",
       "        </tr>\n",
       "        <tr>\n",
       "            <td>32       </td> <td>54.6    </td> <td>Smolensk   </td> <td>Retreat  </td> <td>24000    </td>\n",
       "        </tr>\n",
       "        <tr>\n",
       "            <td>30.4     </td> <td>54.4    </td> <td>Orscha     </td> <td>Retreat  </td> <td>20000    </td>\n",
       "        </tr>\n",
       "        <tr>\n",
       "            <td>26.8     </td> <td>54.3    </td> <td>Moiodexno  </td> <td>Retreat  </td> <td>12000    </td>\n",
       "        </tr>\n",
       "    </tbody>\n",
       "</table>"
      ],
      "text/plain": [
       "Longitude | Latitude | City Name   | Direction | Survivors\n",
       "32        | 54.8     | Smolensk    | Advance   | 145000\n",
       "33.2      | 54.9     | Dorogobouge | Advance   | 140000\n",
       "34.4      | 55.5     | Chjat       | Advance   | 127100\n",
       "37.6      | 55.8     | Moscou      | Advance   | 100000\n",
       "34.3      | 55.2     | Wixma       | Retreat   | 55000\n",
       "32        | 54.6     | Smolensk    | Retreat   | 24000\n",
       "30.4      | 54.4     | Orscha      | Retreat   | 20000\n",
       "26.8      | 54.3     | Moiodexno   | Retreat   | 12000"
      ]
     },
     "execution_count": 14,
     "metadata": {},
     "output_type": "execute_result"
    }
   ],
   "source": [
    "minard = minard.relabeled('City', 'City Name')\n",
    "minard"
   ]
  },
  {
   "cell_type": "code",
   "execution_count": 15,
   "metadata": {},
   "outputs": [
    {
     "data": {
      "text/plain": [
       "array([145000, 140000, 127100, 100000,  55000,  24000,  20000,  12000])"
      ]
     },
     "execution_count": 15,
     "metadata": {},
     "output_type": "execute_result"
    }
   ],
   "source": [
    "minard.column('Survivors')"
   ]
  },
  {
   "cell_type": "code",
   "execution_count": 16,
   "metadata": {},
   "outputs": [
    {
     "data": {
      "text/plain": [
       "array([145000, 140000, 127100, 100000,  55000,  24000,  20000,  12000])"
      ]
     },
     "execution_count": 16,
     "metadata": {},
     "output_type": "execute_result"
    }
   ],
   "source": [
    "minard.column(4)"
   ]
  },
  {
   "cell_type": "code",
   "execution_count": 17,
   "metadata": {},
   "outputs": [
    {
     "data": {
      "text/plain": [
       "145000"
      ]
     },
     "execution_count": 17,
     "metadata": {},
     "output_type": "execute_result"
    }
   ],
   "source": [
    "minard.column(4).item(0)"
   ]
  },
  {
   "cell_type": "code",
   "execution_count": 18,
   "metadata": {},
   "outputs": [
    {
     "data": {
      "text/plain": [
       "24000"
      ]
     },
     "execution_count": 18,
     "metadata": {},
     "output_type": "execute_result"
    }
   ],
   "source": [
    "minard.column(4).item(5)"
   ]
  },
  {
   "cell_type": "code",
   "execution_count": 19,
   "metadata": {},
   "outputs": [
    {
     "data": {
      "text/html": [
       "<table border=\"1\" class=\"dataframe\">\n",
       "    <thead>\n",
       "        <tr>\n",
       "            <th>Longitude</th> <th>Latitude</th> <th>City Name</th> <th>Direction</th> <th>Survivors</th> <th>Percent Surviving</th>\n",
       "        </tr>\n",
       "    </thead>\n",
       "    <tbody>\n",
       "        <tr>\n",
       "            <td>32       </td> <td>54.8    </td> <td>Smolensk   </td> <td>Advance  </td> <td>145000   </td> <td>1                </td>\n",
       "        </tr>\n",
       "        <tr>\n",
       "            <td>33.2     </td> <td>54.9    </td> <td>Dorogobouge</td> <td>Advance  </td> <td>140000   </td> <td>0.965517         </td>\n",
       "        </tr>\n",
       "        <tr>\n",
       "            <td>34.4     </td> <td>55.5    </td> <td>Chjat      </td> <td>Advance  </td> <td>127100   </td> <td>0.876552         </td>\n",
       "        </tr>\n",
       "        <tr>\n",
       "            <td>37.6     </td> <td>55.8    </td> <td>Moscou     </td> <td>Advance  </td> <td>100000   </td> <td>0.689655         </td>\n",
       "        </tr>\n",
       "        <tr>\n",
       "            <td>34.3     </td> <td>55.2    </td> <td>Wixma      </td> <td>Retreat  </td> <td>55000    </td> <td>0.37931          </td>\n",
       "        </tr>\n",
       "        <tr>\n",
       "            <td>32       </td> <td>54.6    </td> <td>Smolensk   </td> <td>Retreat  </td> <td>24000    </td> <td>0.165517         </td>\n",
       "        </tr>\n",
       "        <tr>\n",
       "            <td>30.4     </td> <td>54.4    </td> <td>Orscha     </td> <td>Retreat  </td> <td>20000    </td> <td>0.137931         </td>\n",
       "        </tr>\n",
       "        <tr>\n",
       "            <td>26.8     </td> <td>54.3    </td> <td>Moiodexno  </td> <td>Retreat  </td> <td>12000    </td> <td>0.0827586        </td>\n",
       "        </tr>\n",
       "    </tbody>\n",
       "</table>"
      ],
      "text/plain": [
       "Longitude | Latitude | City Name   | Direction | Survivors | Percent Surviving\n",
       "32        | 54.8     | Smolensk    | Advance   | 145000    | 1\n",
       "33.2      | 54.9     | Dorogobouge | Advance   | 140000    | 0.965517\n",
       "34.4      | 55.5     | Chjat       | Advance   | 127100    | 0.876552\n",
       "37.6      | 55.8     | Moscou      | Advance   | 100000    | 0.689655\n",
       "34.3      | 55.2     | Wixma       | Retreat   | 55000     | 0.37931\n",
       "32        | 54.6     | Smolensk    | Retreat   | 24000     | 0.165517\n",
       "30.4      | 54.4     | Orscha      | Retreat   | 20000     | 0.137931\n",
       "26.8      | 54.3     | Moiodexno   | Retreat   | 12000     | 0.0827586"
      ]
     },
     "execution_count": 19,
     "metadata": {},
     "output_type": "execute_result"
    }
   ],
   "source": [
    "initial = minard.column('Survivors').item(0)\n",
    "minard = minard.with_columns(\n",
    "    'Percent Surviving', minard.column('Survivors')/initial\n",
    ")\n",
    "minard"
   ]
  },
  {
   "cell_type": "code",
   "execution_count": 20,
   "metadata": {},
   "outputs": [
    {
     "data": {
      "text/html": [
       "<table border=\"1\" class=\"dataframe\">\n",
       "    <thead>\n",
       "        <tr>\n",
       "            <th>Longitude</th> <th>Latitude</th> <th>City Name</th> <th>Direction</th> <th>Survivors</th> <th>Percent Surviving</th>\n",
       "        </tr>\n",
       "    </thead>\n",
       "    <tbody>\n",
       "        <tr>\n",
       "            <td>32       </td> <td>54.8    </td> <td>Smolensk   </td> <td>Advance  </td> <td>145000   </td> <td>100.00%          </td>\n",
       "        </tr>\n",
       "        <tr>\n",
       "            <td>33.2     </td> <td>54.9    </td> <td>Dorogobouge</td> <td>Advance  </td> <td>140000   </td> <td>96.55%           </td>\n",
       "        </tr>\n",
       "        <tr>\n",
       "            <td>34.4     </td> <td>55.5    </td> <td>Chjat      </td> <td>Advance  </td> <td>127100   </td> <td>87.66%           </td>\n",
       "        </tr>\n",
       "        <tr>\n",
       "            <td>37.6     </td> <td>55.8    </td> <td>Moscou     </td> <td>Advance  </td> <td>100000   </td> <td>68.97%           </td>\n",
       "        </tr>\n",
       "        <tr>\n",
       "            <td>34.3     </td> <td>55.2    </td> <td>Wixma      </td> <td>Retreat  </td> <td>55000    </td> <td>37.93%           </td>\n",
       "        </tr>\n",
       "        <tr>\n",
       "            <td>32       </td> <td>54.6    </td> <td>Smolensk   </td> <td>Retreat  </td> <td>24000    </td> <td>16.55%           </td>\n",
       "        </tr>\n",
       "        <tr>\n",
       "            <td>30.4     </td> <td>54.4    </td> <td>Orscha     </td> <td>Retreat  </td> <td>20000    </td> <td>13.79%           </td>\n",
       "        </tr>\n",
       "        <tr>\n",
       "            <td>26.8     </td> <td>54.3    </td> <td>Moiodexno  </td> <td>Retreat  </td> <td>12000    </td> <td>8.28%            </td>\n",
       "        </tr>\n",
       "    </tbody>\n",
       "</table>"
      ],
      "text/plain": [
       "Longitude | Latitude | City Name   | Direction | Survivors | Percent Surviving\n",
       "32        | 54.8     | Smolensk    | Advance   | 145000    | 100.00%\n",
       "33.2      | 54.9     | Dorogobouge | Advance   | 140000    | 96.55%\n",
       "34.4      | 55.5     | Chjat       | Advance   | 127100    | 87.66%\n",
       "37.6      | 55.8     | Moscou      | Advance   | 100000    | 68.97%\n",
       "34.3      | 55.2     | Wixma       | Retreat   | 55000     | 37.93%\n",
       "32        | 54.6     | Smolensk    | Retreat   | 24000     | 16.55%\n",
       "30.4      | 54.4     | Orscha      | Retreat   | 20000     | 13.79%\n",
       "26.8      | 54.3     | Moiodexno   | Retreat   | 12000     | 8.28%"
      ]
     },
     "execution_count": 20,
     "metadata": {},
     "output_type": "execute_result"
    }
   ],
   "source": [
    "minard.set_format('Percent Surviving', PercentFormatter)"
   ]
  },
  {
   "cell_type": "code",
   "execution_count": 21,
   "metadata": {},
   "outputs": [
    {
     "data": {
      "text/html": [
       "<table border=\"1\" class=\"dataframe\">\n",
       "    <thead>\n",
       "        <tr>\n",
       "            <th>Longitude</th> <th>Latitude</th>\n",
       "        </tr>\n",
       "    </thead>\n",
       "    <tbody>\n",
       "        <tr>\n",
       "            <td>32       </td> <td>54.8    </td>\n",
       "        </tr>\n",
       "        <tr>\n",
       "            <td>33.2     </td> <td>54.9    </td>\n",
       "        </tr>\n",
       "        <tr>\n",
       "            <td>34.4     </td> <td>55.5    </td>\n",
       "        </tr>\n",
       "        <tr>\n",
       "            <td>37.6     </td> <td>55.8    </td>\n",
       "        </tr>\n",
       "        <tr>\n",
       "            <td>34.3     </td> <td>55.2    </td>\n",
       "        </tr>\n",
       "        <tr>\n",
       "            <td>32       </td> <td>54.6    </td>\n",
       "        </tr>\n",
       "        <tr>\n",
       "            <td>30.4     </td> <td>54.4    </td>\n",
       "        </tr>\n",
       "        <tr>\n",
       "            <td>26.8     </td> <td>54.3    </td>\n",
       "        </tr>\n",
       "    </tbody>\n",
       "</table>"
      ],
      "text/plain": [
       "Longitude | Latitude\n",
       "32        | 54.8\n",
       "33.2      | 54.9\n",
       "34.4      | 55.5\n",
       "37.6      | 55.8\n",
       "34.3      | 55.2\n",
       "32        | 54.6\n",
       "30.4      | 54.4\n",
       "26.8      | 54.3"
      ]
     },
     "execution_count": 21,
     "metadata": {},
     "output_type": "execute_result"
    }
   ],
   "source": [
    "minard.select('Longitude', 'Latitude')"
   ]
  },
  {
   "cell_type": "code",
   "execution_count": 22,
   "metadata": {},
   "outputs": [
    {
     "data": {
      "text/html": [
       "<table border=\"1\" class=\"dataframe\">\n",
       "    <thead>\n",
       "        <tr>\n",
       "            <th>Longitude</th> <th>Latitude</th>\n",
       "        </tr>\n",
       "    </thead>\n",
       "    <tbody>\n",
       "        <tr>\n",
       "            <td>32       </td> <td>54.8    </td>\n",
       "        </tr>\n",
       "        <tr>\n",
       "            <td>33.2     </td> <td>54.9    </td>\n",
       "        </tr>\n",
       "        <tr>\n",
       "            <td>34.4     </td> <td>55.5    </td>\n",
       "        </tr>\n",
       "        <tr>\n",
       "            <td>37.6     </td> <td>55.8    </td>\n",
       "        </tr>\n",
       "        <tr>\n",
       "            <td>34.3     </td> <td>55.2    </td>\n",
       "        </tr>\n",
       "        <tr>\n",
       "            <td>32       </td> <td>54.6    </td>\n",
       "        </tr>\n",
       "        <tr>\n",
       "            <td>30.4     </td> <td>54.4    </td>\n",
       "        </tr>\n",
       "        <tr>\n",
       "            <td>26.8     </td> <td>54.3    </td>\n",
       "        </tr>\n",
       "    </tbody>\n",
       "</table>"
      ],
      "text/plain": [
       "Longitude | Latitude\n",
       "32        | 54.8\n",
       "33.2      | 54.9\n",
       "34.4      | 55.5\n",
       "37.6      | 55.8\n",
       "34.3      | 55.2\n",
       "32        | 54.6\n",
       "30.4      | 54.4\n",
       "26.8      | 54.3"
      ]
     },
     "execution_count": 22,
     "metadata": {},
     "output_type": "execute_result"
    }
   ],
   "source": [
    "minard.select(0, 1)"
   ]
  },
  {
   "cell_type": "code",
   "execution_count": 23,
   "metadata": {},
   "outputs": [
    {
     "data": {
      "text/html": [
       "<table border=\"1\" class=\"dataframe\">\n",
       "    <thead>\n",
       "        <tr>\n",
       "            <th>Survivors</th>\n",
       "        </tr>\n",
       "    </thead>\n",
       "    <tbody>\n",
       "        <tr>\n",
       "            <td>145000   </td>\n",
       "        </tr>\n",
       "        <tr>\n",
       "            <td>140000   </td>\n",
       "        </tr>\n",
       "        <tr>\n",
       "            <td>127100   </td>\n",
       "        </tr>\n",
       "        <tr>\n",
       "            <td>100000   </td>\n",
       "        </tr>\n",
       "        <tr>\n",
       "            <td>55000    </td>\n",
       "        </tr>\n",
       "        <tr>\n",
       "            <td>24000    </td>\n",
       "        </tr>\n",
       "        <tr>\n",
       "            <td>20000    </td>\n",
       "        </tr>\n",
       "        <tr>\n",
       "            <td>12000    </td>\n",
       "        </tr>\n",
       "    </tbody>\n",
       "</table>"
      ],
      "text/plain": [
       "Survivors\n",
       "145000\n",
       "140000\n",
       "127100\n",
       "100000\n",
       "55000\n",
       "24000\n",
       "20000\n",
       "12000"
      ]
     },
     "execution_count": 23,
     "metadata": {},
     "output_type": "execute_result"
    }
   ],
   "source": [
    "minard.select('Survivors')"
   ]
  },
  {
   "cell_type": "code",
   "execution_count": 24,
   "metadata": {},
   "outputs": [
    {
     "data": {
      "text/plain": [
       "array([145000, 140000, 127100, 100000,  55000,  24000,  20000,  12000])"
      ]
     },
     "execution_count": 24,
     "metadata": {},
     "output_type": "execute_result"
    }
   ],
   "source": [
    "minard.column('Survivors')"
   ]
  },
  {
   "cell_type": "code",
   "execution_count": 25,
   "metadata": {},
   "outputs": [
    {
     "data": {
      "text/html": [
       "<table border=\"1\" class=\"dataframe\">\n",
       "    <thead>\n",
       "        <tr>\n",
       "            <th>City Name</th> <th>Survivors</th> <th>Percent Surviving</th>\n",
       "        </tr>\n",
       "    </thead>\n",
       "    <tbody>\n",
       "        <tr>\n",
       "            <td>Smolensk   </td> <td>145000   </td> <td>100.00%          </td>\n",
       "        </tr>\n",
       "        <tr>\n",
       "            <td>Dorogobouge</td> <td>140000   </td> <td>96.55%           </td>\n",
       "        </tr>\n",
       "        <tr>\n",
       "            <td>Chjat      </td> <td>127100   </td> <td>87.66%           </td>\n",
       "        </tr>\n",
       "        <tr>\n",
       "            <td>Moscou     </td> <td>100000   </td> <td>68.97%           </td>\n",
       "        </tr>\n",
       "        <tr>\n",
       "            <td>Wixma      </td> <td>55000    </td> <td>37.93%           </td>\n",
       "        </tr>\n",
       "        <tr>\n",
       "            <td>Smolensk   </td> <td>24000    </td> <td>16.55%           </td>\n",
       "        </tr>\n",
       "        <tr>\n",
       "            <td>Orscha     </td> <td>20000    </td> <td>13.79%           </td>\n",
       "        </tr>\n",
       "        <tr>\n",
       "            <td>Moiodexno  </td> <td>12000    </td> <td>8.28%            </td>\n",
       "        </tr>\n",
       "    </tbody>\n",
       "</table>"
      ],
      "text/plain": [
       "City Name   | Survivors | Percent Surviving\n",
       "Smolensk    | 145000    | 100.00%\n",
       "Dorogobouge | 140000    | 96.55%\n",
       "Chjat       | 127100    | 87.66%\n",
       "Moscou      | 100000    | 68.97%\n",
       "Wixma       | 55000     | 37.93%\n",
       "Smolensk    | 24000     | 16.55%\n",
       "Orscha      | 20000     | 13.79%\n",
       "Moiodexno   | 12000     | 8.28%"
      ]
     },
     "execution_count": 25,
     "metadata": {},
     "output_type": "execute_result"
    }
   ],
   "source": [
    "minard.drop('Longitude', 'Latitude', 'Direction')"
   ]
  },
  {
   "cell_type": "code",
   "execution_count": 26,
   "metadata": {},
   "outputs": [
    {
     "data": {
      "text/html": [
       "<table border=\"1\" class=\"dataframe\">\n",
       "    <thead>\n",
       "        <tr>\n",
       "            <th>Longitude</th> <th>Latitude</th> <th>City Name</th> <th>Direction</th> <th>Survivors</th> <th>Percent Surviving</th>\n",
       "        </tr>\n",
       "    </thead>\n",
       "    <tbody>\n",
       "        <tr>\n",
       "            <td>32       </td> <td>54.8    </td> <td>Smolensk   </td> <td>Advance  </td> <td>145000   </td> <td>100.00%          </td>\n",
       "        </tr>\n",
       "        <tr>\n",
       "            <td>33.2     </td> <td>54.9    </td> <td>Dorogobouge</td> <td>Advance  </td> <td>140000   </td> <td>96.55%           </td>\n",
       "        </tr>\n",
       "        <tr>\n",
       "            <td>34.4     </td> <td>55.5    </td> <td>Chjat      </td> <td>Advance  </td> <td>127100   </td> <td>87.66%           </td>\n",
       "        </tr>\n",
       "        <tr>\n",
       "            <td>37.6     </td> <td>55.8    </td> <td>Moscou     </td> <td>Advance  </td> <td>100000   </td> <td>68.97%           </td>\n",
       "        </tr>\n",
       "        <tr>\n",
       "            <td>34.3     </td> <td>55.2    </td> <td>Wixma      </td> <td>Retreat  </td> <td>55000    </td> <td>37.93%           </td>\n",
       "        </tr>\n",
       "        <tr>\n",
       "            <td>32       </td> <td>54.6    </td> <td>Smolensk   </td> <td>Retreat  </td> <td>24000    </td> <td>16.55%           </td>\n",
       "        </tr>\n",
       "        <tr>\n",
       "            <td>30.4     </td> <td>54.4    </td> <td>Orscha     </td> <td>Retreat  </td> <td>20000    </td> <td>13.79%           </td>\n",
       "        </tr>\n",
       "        <tr>\n",
       "            <td>26.8     </td> <td>54.3    </td> <td>Moiodexno  </td> <td>Retreat  </td> <td>12000    </td> <td>8.28%            </td>\n",
       "        </tr>\n",
       "    </tbody>\n",
       "</table>"
      ],
      "text/plain": [
       "Longitude | Latitude | City Name   | Direction | Survivors | Percent Surviving\n",
       "32        | 54.8     | Smolensk    | Advance   | 145000    | 100.00%\n",
       "33.2      | 54.9     | Dorogobouge | Advance   | 140000    | 96.55%\n",
       "34.4      | 55.5     | Chjat       | Advance   | 127100    | 87.66%\n",
       "37.6      | 55.8     | Moscou      | Advance   | 100000    | 68.97%\n",
       "34.3      | 55.2     | Wixma       | Retreat   | 55000     | 37.93%\n",
       "32        | 54.6     | Smolensk    | Retreat   | 24000     | 16.55%\n",
       "30.4      | 54.4     | Orscha      | Retreat   | 20000     | 13.79%\n",
       "26.8      | 54.3     | Moiodexno   | Retreat   | 12000     | 8.28%"
      ]
     },
     "execution_count": 26,
     "metadata": {},
     "output_type": "execute_result"
    }
   ],
   "source": [
    "minard"
   ]
  }
 ],
 "metadata": {
  "anaconda-cloud": {},
  "kernelspec": {
   "display_name": "Python 3",
   "language": "python",
   "name": "python3"
  },
  "language_info": {
   "codemirror_mode": {
    "name": "ipython",
    "version": 3
   },
   "file_extension": ".py",
   "mimetype": "text/x-python",
   "name": "python",
   "nbconvert_exporter": "python",
   "pygments_lexer": "ipython3",
   "version": "3.10.12"
  }
 },
 "nbformat": 4,
 "nbformat_minor": 2
}
